{
 "cells": [
  {
   "cell_type": "code",
   "execution_count": 12,
   "metadata": {},
   "outputs": [],
   "source": [
    "import serial\n",
    "import MySQLdb\n",
    "import time\n",
    "device=\"COM3\""
   ]
  },
  {
   "cell_type": "code",
   "execution_count": 4,
   "metadata": {},
   "outputs": [],
   "source": [
    "dbConn = MySQLdb.connect(\"localhost\",\"root\",\"1234\",\"arduino_test\") or die(\"Could not connect to db\")\n",
    "cursor =dbConn.cursor()"
   ]
  },
  {
   "cell_type": "code",
   "execution_count": 24,
   "metadata": {},
   "outputs": [],
   "source": [
    "arduino.close()"
   ]
  },
  {
   "cell_type": "code",
   "execution_count": 27,
   "metadata": {},
   "outputs": [
    {
     "name": "stdout",
     "output_type": "stream",
     "text": [
      "Trying... COM3\n"
     ]
    }
   ],
   "source": [
    "\n",
    "try:\n",
    "    print(\"Trying...\",device)\n",
    "    arduino=serial.Serial(device, 9600)\n",
    "except:\n",
    "    print(\"Failed to connect on \",device)"
   ]
  },
  {
   "cell_type": "code",
   "execution_count": null,
   "metadata": {},
   "outputs": [],
   "source": []
  },
  {
   "cell_type": "code",
   "execution_count": 30,
   "metadata": {},
   "outputs": [
    {
     "ename": "NameError",
     "evalue": "name 'last_received' is not defined",
     "output_type": "error",
     "traceback": [
      "\u001b[1;31m---------------------------------------------------------------------------\u001b[0m",
      "\u001b[1;31mNameError\u001b[0m                                 Traceback (most recent call last)",
      "\u001b[1;32m<ipython-input-30-32e70a6ee590>\u001b[0m in \u001b[0;36m<module>\u001b[1;34m\u001b[0m\n\u001b[0;32m      7\u001b[0m \u001b[1;33m\u001b[0m\u001b[0m\n\u001b[0;32m      8\u001b[0m \u001b[1;33m\u001b[0m\u001b[0m\n\u001b[1;32m----> 9\u001b[1;33m \u001b[0mlast_received\u001b[0m\u001b[1;33m\u001b[0m\u001b[1;33m\u001b[0m\u001b[0m\n\u001b[0m",
      "\u001b[1;31mNameError\u001b[0m: name 'last_received' is not defined"
     ]
    }
   ],
   "source": [
    "buffer_string = \"\"\n",
    "buffer_string = buffer_string + arduino.read(arduino.inWaiting()).decode()\n",
    "if '\\n' in buffer_string:\n",
    "    lines = buffer_string.split('\\n') # Guaranteed to have at least 2 entries\n",
    "    last_received = lines[-2]\n",
    "    buffer_string = lines[-1]\n",
    "\n",
    "    \n",
    "last_received"
   ]
  },
  {
   "cell_type": "code",
   "execution_count": 21,
   "metadata": {},
   "outputs": [
    {
     "name": "stdout",
     "output_type": "stream",
     "text": [
      "184\n",
      "Low\n",
      "failed to insert\n",
      "Failed to get data from arduino\n"
     ]
    }
   ],
   "source": [
    "\n",
    "arduino.flush()\n",
    "buffer_string = \"\"\n",
    "levelVoltage =\"\"\n",
    "level=\"\"\n",
    "turb=\"\"\n",
    "while True :\n",
    "    try:\n",
    "        time.sleep(1)\n",
    "        #read the latest\n",
    "        buffer_string = buffer_string + arduino.read(arduino.inWaiting()).decode()\n",
    "        if '\\n' in buffer_string:\n",
    "            \n",
    "            lines = buffer_string.split('\\r\\n') \n",
    "            try:\n",
    "                if len(lines)==3:\n",
    "                    levelVoltage = lines[-3].split(\" \")[-1]\n",
    "                    level = lines[-2].split(\" \")[-1]\n",
    "                    print(levelVoltage+\"\\n\"+level)\n",
    "                    try:\n",
    "                        cursor.execute(\"INSERT INTO water_level (voltage,level) VALUES (%s,%s)\", (int(levelVoltage),level))\n",
    "                        dbConn.commit()\n",
    "                    except:\n",
    "                        print(\"failed to insert\")\n",
    "                elif len(lines)==4:\n",
    "                    levelVoltage = lines[-4].split(\" \")[-1]\n",
    "                    level = lines[-3].split(\" \")[-1]\n",
    "                    turb = lines[-2].split(\" \")[-1]\n",
    "                    print(levelVoltage+\"\\n\"+level+\"\\n\"+turb)\n",
    "                    try:\n",
    "                        cursor.execute(\"INSERT INTO water_level (voltage,level) VALUES (%s,%s)\", (int(levelVoltage),level))\n",
    "                        cursor.execute(\"INSERT INTO turbidity (voltage) VALUES (\"+turb+\")\")\n",
    "                        dbConn.commit()\n",
    "                    except:\n",
    "                        print(\"failed to insert\")\n",
    "                buffer_string = lines[-1]\n",
    "                \n",
    "            except:\n",
    "                print(\"no data\")\n",
    "            \n",
    "    except:\n",
    "        print(\"Failed to get data from arduino\")\n",
    "        break;\n",
    "arduino.close()"
   ]
  },
  {
   "cell_type": "code",
   "execution_count": 28,
   "metadata": {},
   "outputs": [
    {
     "name": "stdout",
     "output_type": "stream",
     "text": [
      "turb_interval 4\n",
      "water_level: 113, Low\n",
      "turb: 0.08\n",
      "Temp: 28.69\n",
      "water_level: 380, High\n",
      "turb: 0.08\n",
      "Temp: 28.69\n",
      "water_level: 257, Low\n",
      "turb: \n",
      "Temp: 28.69\n",
      "water_level: , \n",
      "turb: 0.07\n",
      "Temp: \n",
      "water_level: 37, Empty\n",
      "turb: \n",
      "Temp: 28.69\n",
      "water_level: , \n",
      "turb: 0.07\n",
      "Temp: \n",
      "water_level: 317, Medium\n",
      "turb: \n",
      "Temp: 28.69\n",
      "water_level_interval 6\n",
      "water_level: , \n",
      "turb: 0.07\n",
      "Temp: 28.69\n",
      "water_level: 82, Empty\n",
      "turb: \n",
      "Temp: 28.69\n",
      "water_level: , \n",
      "turb: 0.07\n",
      "Temp: \n",
      "water_level: , \n",
      "turb: \n",
      "Temp: 28.69\n",
      "water_level: , \n",
      "turb: 0.07\n",
      "Temp: \n",
      "water_level: 140, Low\n",
      "turb: \n",
      "Temp: 28.69\n",
      "water_level: , \n",
      "turb: 0.07\n",
      "Temp: 28.69\n",
      "water_level: 292, Low\n",
      "turb: \n",
      "Temp: 28.69\n",
      "water_level: , \n",
      "turb: 0.07\n",
      "Temp: \n",
      "water_level: , \n",
      "turb: \n",
      "Temp: 28.69\n",
      "water_level: , \n",
      "turb: 0.07\n",
      "Temp: \n",
      "water_level: 293, Low\n",
      "turb: \n",
      "Temp: 28.69\n",
      "water_level: , \n",
      "turb: 0.07\n",
      "Temp: 28.69\n",
      "water_level: 84, Empty\n",
      "turb: \n",
      "Temp: 28.69\n",
      "water_level: , \n",
      "turb: 0.07\n",
      "Temp: \n",
      "water_level: , \n",
      "turb: \n",
      "Temp: 28.69\n",
      "water_level: , \n",
      "turb: 0.06\n",
      "Temp: \n",
      "water_level: 286, Low\n",
      "turb: \n",
      "Temp: 28.69\n",
      "water_level: , \n",
      "turb: 0.07\n",
      "Temp: 28.69\n",
      "temp_interval 6\n",
      "water_level: 285, Low\n",
      "turb: 0.07\n",
      "Temp: \n",
      "water_level: , \n",
      "turb: \n",
      "Temp: 28.69\n",
      "water_level: , \n",
      "turb: 0.07\n",
      "Temp: \n",
      "water_level: 35, Empty\n",
      "turb: \n",
      "Temp: \n",
      "water_level: , \n",
      "turb: 0.07\n",
      "Temp: 28.69\n",
      "water_level: 316, Medium\n",
      "turb: 0.07\n",
      "Temp: \n",
      "water_level: , \n",
      "turb: \n",
      "Temp: 28.69\n",
      "water_level: , \n",
      "turb: 0.07\n",
      "Temp: \n",
      "water_level: 194, Low\n",
      "turb: \n",
      "Temp: \n",
      "water_level: , \n",
      "turb: 0.07\n",
      "Temp: 28.69\n",
      "water_level: 87, Empty\n",
      "turb: 0.08\n",
      "Temp: \n",
      "water_level: , \n",
      "turb: \n",
      "Temp: 28.69\n",
      "water_level: , \n",
      "turb: 0.07\n",
      "Temp: \n",
      "water_level: 354, High\n",
      "turb: \n",
      "Temp: \n",
      "water_level: , \n",
      "turb: 0.08\n",
      "Temp: 28.69\n",
      "water_level: 98, Empty\n",
      "turb: 0.08\n",
      "Temp: \n",
      "water_level: , \n",
      "turb: \n",
      "Temp: 28.69\n",
      "water_level: , \n",
      "turb: 0.08\n",
      "Temp: \n",
      "water_level: 125, Low\n",
      "turb: \n",
      "Temp: \n",
      "water_level: , \n",
      "turb: 0.08\n",
      "Temp: 28.69\n",
      "water_level: 190, Low\n",
      "turb: 0.09\n",
      "Temp: \n",
      "water_level: , \n",
      "turb: \n",
      "Temp: 28.69\n",
      "water_level: , \n",
      "turb: 0.09\n",
      "Temp: \n",
      "water_level: 297, Low\n",
      "turb: \n",
      "Temp: \n",
      "water_level: , \n",
      "turb: 0.08\n",
      "Temp: 28.69\n",
      "water_level: 288, Low\n",
      "turb: 0.08\n",
      "Temp: \n",
      "water_level: , \n",
      "turb: \n",
      "Temp: 28.69\n",
      "water_level: , \n",
      "turb: 0.08\n",
      "Temp: \n",
      "water_level: 33, Empty\n",
      "turb: \n",
      "Temp: \n",
      "water_level: , \n",
      "turb: 0.08\n",
      "Temp: 28.69\n",
      "water_level: 340, High\n",
      "turb: 0.08\n",
      "Temp: \n",
      "turb_interval 10\n",
      "water_level: , \n",
      "turb: \n",
      "Temp: 28.69\n",
      "water_level: 40, Empty\n",
      "turb: \n",
      "Temp: \n",
      "water_level: , \n",
      "turb: \n",
      "Temp: 28.69\n",
      "water_level: , \n",
      "turb: 0.08\n",
      "Temp: \n",
      "water_level: 341, High\n",
      "turb: \n",
      "Temp: \n",
      "water_level: , \n",
      "turb: \n",
      "Temp: 28.69\n",
      "water_level: 225, Low\n",
      "turb: \n",
      "Temp: \n",
      "water_level: , \n",
      "turb: 0.08\n",
      "Temp: \n",
      "water_level: , \n",
      "turb: \n",
      "Temp: 28.69\n",
      "water_level: 129, Low\n",
      "turb: \n",
      "Temp: \n",
      "water_level: , \n",
      "turb: \n",
      "Temp: 28.69\n",
      "water_level: 240, Low\n",
      "turb: 0.08\n",
      "Temp: \n",
      "water_level: , \n",
      "turb: \n",
      "Temp: 28.69\n",
      "water_level: 348, High\n",
      "turb: \n",
      "Temp: \n",
      "water_level: , \n",
      "turb: \n",
      "Temp: 28.69\n",
      "water_level: , \n",
      "turb: 0.08\n",
      "Temp: \n",
      "water_level: 118, Low\n",
      "turb: \n",
      "Temp: \n",
      "water_level: , \n",
      "turb: \n",
      "Temp: 28.69\n",
      "water_level: 209, Low\n",
      "turb: \n",
      "Temp: \n",
      "water_level: , \n",
      "turb: 0.08\n",
      "Temp: \n",
      "water_level: , \n",
      "turb: \n",
      "Temp: 28.69\n",
      "water_level: 346, High\n",
      "turb: \n",
      "Temp: \n",
      "water_level: , \n",
      "turb: \n",
      "Temp: 28.69\n",
      "water_level: 349, High\n",
      "turb: 0.08\n",
      "Temp: \n",
      "water_level: , \n",
      "turb: \n",
      "Temp: 28.69\n",
      "water_level: 44, Empty\n",
      "turb: \n",
      "Temp: \n",
      "water_level: , \n",
      "turb: \n",
      "Temp: 28.69\n",
      "water_level: , \n",
      "turb: 0.08\n",
      "Temp: \n",
      "water_level: 287, Low\n",
      "turb: \n",
      "Temp: \n",
      "water_level: , \n",
      "turb: \n",
      "Temp: 28.69\n",
      "water_level: 404, High\n",
      "turb: \n",
      "Temp: \n",
      "water_level: , \n",
      "turb: 0.08\n",
      "Temp: \n",
      "water_level: , \n",
      "turb: \n",
      "Temp: 28.69\n",
      "water_level: 353, High\n",
      "turb: \n",
      "Temp: \n",
      "turb_interval 2\n",
      "water_level: , \n",
      "turb: \n",
      "Temp: 28.69\n",
      "water_level: , \n",
      "turb: 0.08\n",
      "Temp: \n",
      "water_level: 309, Medium\n",
      "turb: \n",
      "Temp: \n",
      "water_level: , \n",
      "turb: 0.07\n",
      "Temp: \n",
      "water_level: , \n",
      "turb: 0.07\n",
      "Temp: 28.69\n",
      "water_level: , \n",
      "turb: 0.07\n",
      "Temp: \n",
      "water_level: 267, Low\n",
      "turb: \n",
      "Temp: \n",
      "turb_interval 5\n",
      "water_level: , \n",
      "turb: 0.07\n",
      "Temp: \n",
      "water_level: , \n",
      "turb: \n",
      "Temp: 28.69\n",
      "water_level: 76, Empty\n",
      "turb: 0.07\n",
      "Temp: \n",
      "water_level: , \n",
      "turb: \n",
      "Temp: 28.69\n",
      "water_level: , \n",
      "turb: 0.07\n",
      "Temp: \n",
      "water_level: 228, Low\n",
      "turb: \n",
      "Temp: \n",
      "water_level: , \n",
      "turb: \n",
      "Temp: 28.69\n",
      "water_level: , \n",
      "turb: 0.07\n",
      "Temp: \n",
      "water_level: 95, Empty\n",
      "turb: \n",
      "Temp: \n",
      "water_level: , \n",
      "turb: 0.07\n",
      "Temp: 28.69\n",
      "water_level: 242, Low\n",
      "turb: \n",
      "Temp: \n",
      "water_level: , \n",
      "turb: 0.07\n",
      "Temp: \n",
      "water_level: , \n",
      "turb: \n",
      "Temp: 28.69\n",
      "Failed to get data from arduino\n"
     ]
    }
   ],
   "source": [
    "arduino.flush()\n",
    "buffer_string = \"\"\n",
    "oldLine=''\n",
    "# levelVoltage =\"\"\n",
    "# level=\"\"\n",
    "# turb=\"\"\n",
    "while True :\n",
    "    levelVoltage =\"\"\n",
    "    level=\"\"\n",
    "    turb=\"\"\n",
    "    temp=\"\"\n",
    "    try:\n",
    "        time.sleep(1)\n",
    "        #read the latest\n",
    "        f = open(\"C:\\\\xampp\\\\htdocs\\\\arduino_web\\\\interval.txt\", \"r\")\n",
    "        newLine=f.readline()\n",
    "        if newLine!=oldLine:\n",
    "            oldLine=newLine\n",
    "            arduino.write(oldLine.encode())\n",
    "            print(oldLine)\n",
    "        buffer_string = buffer_string + arduino.read(arduino.inWaiting()).decode()\n",
    "        if '\\n' in buffer_string:\n",
    "            lines = buffer_string.split('\\r\\n') \n",
    "            data_len=len(lines)\n",
    "            try:\n",
    "                for each in lines:\n",
    "                    if each !=\"\" :\n",
    "                        if \"Turb:\" in each:\n",
    "                            turb = each.split(\" \")[-1]\n",
    "                        elif \"LevelVoltage:\" in each:\n",
    "                            levelVoltage = each.split(\" \")[-1]\n",
    "                        elif \"Level:\" in each:\n",
    "                            level = each.split(\" \")[-1]\n",
    "                        elif \"Temperature:\" in each:\n",
    "                            temp = each.split(\" \")[-1]\n",
    "                            \n",
    "                print(\"water_level: \"+levelVoltage+\", \"+level+\"\\n\"+\"turb: \"+turb+\"\\n\"+\"Temp: \"+temp)\n",
    "                \n",
    "#                 try:\n",
    "#                     if levelVoltage!=\"\" and level!=\"\":\n",
    "#                         cursor.execute(\"INSERT INTO water_level (voltage,level) VALUES (%s,%s)\", (int(levelVoltage),level))\n",
    "#                     if turb !=\"\":\n",
    "#                         cursor.execute(\"INSERT INTO turbidity (voltage) VALUES (\"+turb+\")\")\n",
    "#                    if temp !=\"\":\n",
    "#                        cursor.execute(\"INSERT INTO temperature (temp) VALUES (\"+temp+\")\")\n",
    "#                     dbConn.commit()\n",
    "#                 except:\n",
    "#                     print(\"failed to insert\")\n",
    "                   \n",
    "                buffer_string = lines[-1]\n",
    "                \n",
    "            except:\n",
    "                print(\"no data\")\n",
    "            \n",
    "    except:\n",
    "        print(\"Failed to get data from arduino\")\n",
    "        break;\n",
    "arduino.close()"
   ]
  },
  {
   "cell_type": "code",
   "execution_count": null,
   "metadata": {},
   "outputs": [],
   "source": []
  },
  {
   "cell_type": "code",
   "execution_count": 131,
   "metadata": {},
   "outputs": [
    {
     "name": "stdout",
     "output_type": "stream",
     "text": [
      "b'ty\\r\\n'\n",
      "Failed to get data from arduino\n"
     ]
    }
   ],
   "source": [
    "\n",
    "arduino.flush\n",
    "while True :\n",
    "    try:\n",
    "#       time.sleep(1)\n",
    "        data=arduino.readline()\n",
    "        print(data)\n",
    "        data=data.decode()\n",
    "        pieces=data.split(\" \")\n",
    "        humidity=pieces[1].replace(\"%\",\"\")\n",
    "        humidity=float(humidity)\n",
    "        tmp=pieces[4].replace(\"°C\",\"\")\n",
    "        tmp=float(tmp)\n",
    "        try:\n",
    "            cursor.execute(\"INSERT INTO dht11 (Temperature,Humidity) VALUES (%s,%s)\", (tmp,humidity))\n",
    "            dbConn.commit()\n",
    "        except:\n",
    "            print(\"failed to insert\")\n",
    "    except:\n",
    "        print(\"Failed to get data from arduino\")\n",
    "        break;\n",
    "    "
   ]
  },
  {
   "cell_type": "code",
   "execution_count": null,
   "metadata": {},
   "outputs": [],
   "source": [
    "arduino.close()"
   ]
  },
  {
   "cell_type": "code",
   "execution_count": 24,
   "metadata": {},
   "outputs": [
    {
     "name": "stdout",
     "output_type": "stream",
     "text": [
      "b'Humidity: 68.00%  Temperature: 28.85\\xc2\\xb0C \\r\\n'\n"
     ]
    }
   ],
   "source": [
    "time.sleep(1)\n",
    "data=arduino.readline()\n",
    "print(data)\n",
    "data=data.decode()\n",
    "pieces=data.split(\" \")\n",
    "humidity=pieces[1].replace(\"%\",\"\")\n",
    "humidity=float(humidity)\n",
    "tmp=pieces[4].replace(\"°C\",\"\")\n",
    "tmp=float(tmp)\n",
    "\n",
    "cursor.execute(\"INSERT INTO dht11_test (Temperature,Humidity) VALUES (%s,%s)\", (tmp,humidity))\n",
    "dbConn.commit()\n",
    "\n"
   ]
  },
  {
   "cell_type": "code",
   "execution_count": 30,
   "metadata": {},
   "outputs": [],
   "source": [
    "time.sleep(1)\n",
    "data=arduino.readline()\n"
   ]
  },
  {
   "cell_type": "code",
   "execution_count": 31,
   "metadata": {},
   "outputs": [],
   "source": [
    "data\n",
    "data=data.decode()"
   ]
  },
  {
   "cell_type": "code",
   "execution_count": 12,
   "metadata": {},
   "outputs": [
    {
     "name": "stdout",
     "output_type": "stream",
     "text": [
      "b'Humidity: 76.00%  Temperature: 22.57\\xc2\\xb0C \\r\\n'\n",
      "76.00 22.57°C\n"
     ]
    }
   ],
   "source": [
    "time.sleep(1)\n",
    "data=arduino.readline()\n",
    "print(data)\n",
    "data=data.decode()\n",
    "pieces=data.split(\" \")\n",
    "print( pieces[1].replace(\"%\",\"\"),pieces[4])"
   ]
  },
  {
   "cell_type": "code",
   "execution_count": 7,
   "metadata": {
    "scrolled": true
   },
   "outputs": [
    {
     "ename": "TypeError",
     "evalue": "a bytes-like object is required, not 'str'",
     "output_type": "error",
     "traceback": [
      "\u001b[1;31m---------------------------------------------------------------------------\u001b[0m",
      "\u001b[1;31mTypeError\u001b[0m                                 Traceback (most recent call last)",
      "\u001b[1;32m<ipython-input-7-2f4a45455249>\u001b[0m in \u001b[0;36m<module>\u001b[1;34m\u001b[0m\n\u001b[1;32m----> 1\u001b[1;33m \u001b[0mpieces\u001b[0m\u001b[1;33m=\u001b[0m\u001b[0mdata\u001b[0m\u001b[1;33m.\u001b[0m\u001b[0msplit\u001b[0m\u001b[1;33m(\u001b[0m\u001b[1;34m\" \"\u001b[0m\u001b[1;33m)\u001b[0m\u001b[1;33m\u001b[0m\u001b[1;33m\u001b[0m\u001b[0m\n\u001b[0m",
      "\u001b[1;31mTypeError\u001b[0m: a bytes-like object is required, not 'str'"
     ]
    }
   ],
   "source": [
    "pieces=data.split(\" \")"
   ]
  },
  {
   "cell_type": "code",
   "execution_count": null,
   "metadata": {},
   "outputs": [],
   "source": [
    "arduino.close()"
   ]
  },
  {
   "cell_type": "code",
   "execution_count": 7,
   "metadata": {},
   "outputs": [
    {
     "data": {
      "text/plain": [
       "True"
      ]
     },
     "execution_count": 7,
     "metadata": {},
     "output_type": "execute_result"
    }
   ],
   "source": [
    "a=\"123\"\n",
    "a.isnumeric()"
   ]
  },
  {
   "cell_type": "code",
   "execution_count": 267,
   "metadata": {},
   "outputs": [
    {
     "data": {
      "text/plain": [
       "1"
      ]
     },
     "execution_count": 267,
     "metadata": {},
     "output_type": "execute_result"
    }
   ],
   "source": [
    "cursor.execute(\"INSERT INTO turbidity (voltage) VALUES (\"+turb+\")\")"
   ]
  },
  {
   "cell_type": "code",
   "execution_count": 246,
   "metadata": {},
   "outputs": [
    {
     "data": {
      "text/plain": [
       "0.58"
      ]
     },
     "execution_count": 246,
     "metadata": {},
     "output_type": "execute_result"
    }
   ],
   "source": [
    "float(turb)"
   ]
  },
  {
   "cell_type": "code",
   "execution_count": 262,
   "metadata": {},
   "outputs": [
    {
     "data": {
      "text/plain": [
       "1"
      ]
     },
     "execution_count": 262,
     "metadata": {},
     "output_type": "execute_result"
    }
   ],
   "source": [
    "cursor.execute(\"INSERT INTO water_level (voltage) VALUES (%s)\", (levelVoltage))"
   ]
  },
  {
   "cell_type": "code",
   "execution_count": 265,
   "metadata": {},
   "outputs": [
    {
     "data": {
      "text/plain": [
       "str"
      ]
     },
     "execution_count": 265,
     "metadata": {},
     "output_type": "execute_result"
    }
   ],
   "source": [
    "type(turb)"
   ]
  },
  {
   "cell_type": "code",
   "execution_count": null,
   "metadata": {},
   "outputs": [],
   "source": []
  }
 ],
 "metadata": {
  "kernelspec": {
   "display_name": "Python 3",
   "language": "python",
   "name": "python3"
  },
  "language_info": {
   "codemirror_mode": {
    "name": "ipython",
    "version": 3
   },
   "file_extension": ".py",
   "mimetype": "text/x-python",
   "name": "python",
   "nbconvert_exporter": "python",
   "pygments_lexer": "ipython3",
   "version": "3.8.6"
  }
 },
 "nbformat": 4,
 "nbformat_minor": 4
}
